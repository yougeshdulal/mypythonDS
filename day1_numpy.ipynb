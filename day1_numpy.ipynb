{
 "cells": [
  {
   "cell_type": "code",
   "execution_count": 8,
   "id": "f17a29b3",
   "metadata": {},
   "outputs": [
    {
     "name": "stdout",
     "output_type": "stream",
     "text": [
      "1.24.3\n"
     ]
    }
   ],
   "source": [
    "import numpy as np\n",
    "print(np.__version__)"
   ]
  },
  {
   "cell_type": "code",
   "execution_count": 11,
   "id": "2a72a18b",
   "metadata": {},
   "outputs": [
    {
     "name": "stdout",
     "output_type": "stream",
     "text": [
      "[ 1  2  5 10]\n",
      "<class 'numpy.ndarray'>\n",
      "4\n",
      "(4,)\n"
     ]
    }
   ],
   "source": [
    "a = np.array([1, 2, 5, 10])\n",
    "print(a)\n",
    "\n",
    "print(type(a))\n",
    "\n",
    "print(a.size)\n",
    "print(a.shape)"
   ]
  },
  {
   "cell_type": "code",
   "execution_count": 14,
   "id": "f5d4a087",
   "metadata": {},
   "outputs": [
    {
     "name": "stdout",
     "output_type": "stream",
     "text": [
      "16\n",
      "1\n",
      "int32\n"
     ]
    }
   ],
   "source": [
    "print(a.nbytes)\n",
    "\n",
    "print(a.ndim)\n",
    "\n",
    "print(a.dtype)"
   ]
  },
  {
   "cell_type": "code",
   "execution_count": 48,
   "id": "c021cb34",
   "metadata": {},
   "outputs": [
    {
     "name": "stdout",
     "output_type": "stream",
     "text": [
      "240\n",
      "x= [ 1  2  3  6 12] and y= [ 7  8 15 10 26]\n",
      "[ 8 10 18 16 38]\n",
      "[ 6  6 12  4 14]\n",
      "[  7  16  45  60 312]\n",
      "[ 1  2  3  6 12]\n"
     ]
    }
   ],
   "source": [
    "x = np.array([1, 2, 3, 6, 12])\n",
    "y = np.array([7, 8, 15, 10, 26])\n",
    "z = np.array([10, 5, 12, 11, 13])\n",
    "\n",
    "\n",
    "\n",
    "print(6*8*5)\n",
    "\n",
    "\n",
    "print(f\"x= {x} and y= {y}\")\n",
    "\n",
    "\n",
    "\n",
    "print(x+y)\n",
    "print(y-x)\n",
    "print(x*y)\n",
    "\n",
    "print(x)"
   ]
  },
  {
   "cell_type": "code",
   "execution_count": 33,
   "id": "36af2bdc",
   "metadata": {},
   "outputs": [
    {
     "name": "stdout",
     "output_type": "stream",
     "text": [
      "20\n",
      "440\n"
     ]
    }
   ],
   "source": [
    "print(z.nbytes)\n",
    "print(z.sum())\n"
   ]
  },
  {
   "cell_type": "markdown",
   "id": "0faf5bdf",
   "metadata": {},
   "source": [
    "# practise sets"
   ]
  },
  {
   "cell_type": "code",
   "execution_count": 3,
   "id": "53330307",
   "metadata": {},
   "outputs": [
    {
     "name": "stdout",
     "output_type": "stream",
     "text": [
      "[1 2 3 4 5 6 7 8 9]\n",
      "45\n",
      "1\n",
      "9\n",
      "5.0\n",
      "2.581988897471611\n",
      "3\n",
      "[2 3 4]\n"
     ]
    }
   ],
   "source": [
    "import numpy as np\n",
    "b = np.array([1,2,3,4,5,6,7,8,9])\n",
    "print(b)\n",
    "\n",
    "print(b.sum())\n",
    "\n",
    "print(b.min())\n",
    "\n",
    "print(b.max())\n",
    "\n",
    "print(b.mean())\n",
    "\n",
    "print(b.std())\n",
    "\n",
    "print(b[2])\n",
    "\n",
    "print(b[1:4])"
   ]
  },
  {
   "cell_type": "code",
   "execution_count": null,
   "id": "2f379c5f",
   "metadata": {},
   "outputs": [],
   "source": []
  }
 ],
 "metadata": {
  "kernelspec": {
   "display_name": "Python 3 (ipykernel)",
   "language": "python",
   "name": "python3"
  },
  "language_info": {
   "codemirror_mode": {
    "name": "ipython",
    "version": 3
   },
   "file_extension": ".py",
   "mimetype": "text/x-python",
   "name": "python",
   "nbconvert_exporter": "python",
   "pygments_lexer": "ipython3",
   "version": "3.11.3"
  }
 },
 "nbformat": 4,
 "nbformat_minor": 5
}
