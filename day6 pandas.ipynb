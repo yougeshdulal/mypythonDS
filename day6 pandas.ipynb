{
 "cells": [
  {
   "cell_type": "code",
   "execution_count": null,
   "id": "a69e0119",
   "metadata": {},
   "outputs": [],
   "source": [
    "def list_handler(n1:int)->None:\n",
    "    for i in range(n1):\n",
    "        temp_list = []\n",
    "        name = input(\"Enter name: \")\n",
    "        age = int(input(\"Enter age: \"))\n",
    "        mark = int(input(\"enter the mark: \"))\n",
    "        temp_list.append(name)\n",
    "        temp_list.append(age)\n",
    "        temp_list.append(mark)\n",
    "        student_detail.append(temp_list)\n",
    "    print(student_detail)\n",
    "    \n",
    "    with open('studentdetail.csv','a',newline='') as f:\n",
    "        writer = csv.writer(f)\n",
    "        writer.writerow(['name','age','mark'])\n",
    "        writer.writerows(student_detail)\n",
    "    \n",
    "    \n",
    "# name age address mark\n",
    "student_detail = []\n",
    "# student_detail = list()\n",
    "j = 1\n",
    "while j <= 5:\n",
    "    try:\n",
    "        n = int(input(\"Enter the total number of students: \"))\n",
    "        list_handler(n)\n",
    "        break\n",
    "    except Exception as ex:\n",
    "        j+=1\n",
    "        print(ex.__doc__)\n",
    "        if j == 5:\n",
    "            print(\"You are not sharp minded sorry!\")\n",
    "        if j == 6:\n",
    "            print(\"Ab kehi hudaina!\")"
   ]
  },
  {
   "cell_type": "code",
   "execution_count": null,
   "id": "4a562484",
   "metadata": {},
   "outputs": [],
   "source": []
  }
 ],
 "metadata": {
  "kernelspec": {
   "display_name": "Python 3 (ipykernel)",
   "language": "python",
   "name": "python3"
  },
  "language_info": {
   "codemirror_mode": {
    "name": "ipython",
    "version": 3
   },
   "file_extension": ".py",
   "mimetype": "text/x-python",
   "name": "python",
   "nbconvert_exporter": "python",
   "pygments_lexer": "ipython3",
   "version": "3.11.3"
  }
 },
 "nbformat": 4,
 "nbformat_minor": 5
}
