{
 "cells": [
  {
   "cell_type": "code",
   "execution_count": 1,
   "id": "a7e1398f",
   "metadata": {},
   "outputs": [
    {
     "name": "stdout",
     "output_type": "stream",
     "text": [
      "{'name': 'ram', 'age': 22, 'mark': 77.5, 'address': ['ktm', 'pkr']}\n"
     ]
    }
   ],
   "source": [
    "student={\n",
    "    'name':'ram',\n",
    "    'age':22,\n",
    "    'mark':77.5,\n",
    "    'address':['ktm','pkr']\n",
    "}\n",
    "print(student)"
   ]
  },
  {
   "cell_type": "code",
   "execution_count": 2,
   "id": "d5376b53",
   "metadata": {},
   "outputs": [
    {
     "name": "stdout",
     "output_type": "stream",
     "text": [
      "dict_keys(['name', 'age', 'mark', 'address'])\n"
     ]
    }
   ],
   "source": [
    "print(student.keys())"
   ]
  },
  {
   "cell_type": "code",
   "execution_count": 3,
   "id": "a418b1e2",
   "metadata": {},
   "outputs": [
    {
     "name": "stdout",
     "output_type": "stream",
     "text": [
      "dict_values(['ram', 22, 77.5, ['ktm', 'pkr']])\n"
     ]
    }
   ],
   "source": [
    "print(student.values())"
   ]
  },
  {
   "cell_type": "code",
   "execution_count": 4,
   "id": "9f1230c6",
   "metadata": {},
   "outputs": [
    {
     "name": "stdout",
     "output_type": "stream",
     "text": [
      "dict_items([('name', 'ram'), ('age', 22), ('mark', 77.5), ('address', ['ktm', 'pkr'])])\n"
     ]
    }
   ],
   "source": [
    "print(student.items())"
   ]
  },
  {
   "cell_type": "code",
   "execution_count": 5,
   "id": "04b412c3",
   "metadata": {},
   "outputs": [
    {
     "name": "stdout",
     "output_type": "stream",
     "text": [
      "name\n",
      "age\n",
      "mark\n",
      "address\n"
     ]
    }
   ],
   "source": [
    "for i in student:\n",
    "    print(i)"
   ]
  },
  {
   "cell_type": "code",
   "execution_count": 6,
   "id": "f6780901",
   "metadata": {},
   "outputs": [
    {
     "name": "stdout",
     "output_type": "stream",
     "text": [
      "ram\n",
      "22\n",
      "77.5\n",
      "['ktm', 'pkr']\n"
     ]
    }
   ],
   "source": [
    "for i in student.values():\n",
    "    print(i)"
   ]
  },
  {
   "cell_type": "code",
   "execution_count": 10,
   "id": "0bdad005",
   "metadata": {},
   "outputs": [
    {
     "name": "stdout",
     "output_type": "stream",
     "text": [
      "name and ram\n",
      "age and 22\n",
      "mark and 77.5\n",
      "address and ['ktm', 'pkr']\n"
     ]
    }
   ],
   "source": [
    "for keys,values in student.items():\n",
    "    print(f\"{keys} and {values}\")"
   ]
  },
  {
   "cell_type": "code",
   "execution_count": 11,
   "id": "8e7deb62",
   "metadata": {},
   "outputs": [
    {
     "name": "stdout",
     "output_type": "stream",
     "text": [
      "ram\n"
     ]
    }
   ],
   "source": [
    "print(student['name'])"
   ]
  },
  {
   "cell_type": "code",
   "execution_count": 13,
   "id": "68073c06",
   "metadata": {},
   "outputs": [
    {
     "name": "stdout",
     "output_type": "stream",
     "text": [
      "{'name': 'shyam', 'age': 22, 'mark': 77.5, 'address': ['ktm', 'pkr']}\n"
     ]
    }
   ],
   "source": [
    "student['name']= 'shyam'\n",
    "print(student)\n"
   ]
  },
  {
   "cell_type": "code",
   "execution_count": 14,
   "id": "467a6a95",
   "metadata": {},
   "outputs": [
    {
     "name": "stdout",
     "output_type": "stream",
     "text": [
      "pkr\n"
     ]
    }
   ],
   "source": [
    "print(student['address'][1])"
   ]
  },
  {
   "cell_type": "code",
   "execution_count": 21,
   "id": "fafc126e",
   "metadata": {},
   "outputs": [
    {
     "name": "stdout",
     "output_type": "stream",
     "text": [
      "{'name': 'shyam', 'age': 22, 'mark': 77.5, 'address': ['thailand', 'ktm', 'thailand', 'thailand', 'thailand', 'thailand', 'thailand', 'pkr']}\n"
     ]
    }
   ],
   "source": [
    "student['address'].insert(0,'thailand')\n",
    "print(student)"
   ]
  },
  {
   "cell_type": "code",
   "execution_count": 30,
   "id": "f0ad61ac",
   "metadata": {},
   "outputs": [
    {
     "name": "stdout",
     "output_type": "stream",
     "text": [
      "it is here\n",
      "4\n",
      "{'name': 'shyam', 'age': 22, 'mark': 77.5, 'address': ['ktm', 'thailand', 'thailand', 'thailand', 'pkr']}\n"
     ]
    }
   ],
   "source": [
    "if 'thailand' in student['address']:\n",
    "    print(\"it is here\")\n",
    "    print(student['address'].count('thailand'))\n",
    "    student['address'].remove('thailand')\n",
    "    print(student)"
   ]
  },
  {
   "cell_type": "code",
   "execution_count": 32,
   "id": "890b5e38",
   "metadata": {},
   "outputs": [
    {
     "name": "stdout",
     "output_type": "stream",
     "text": [
      "[{'id': 1, 'name': 'John'}, {'id': 2, 'name': 'Jane'}, {'id': 3, 'name': 'Alice'}]\n"
     ]
    }
   ],
   "source": [
    "my_list = [\n",
    "    {'id': 1, 'name': 'John'},\n",
    "    {'id': 2, 'name': 'Jane'},\n",
    "    {'id': 1, 'name': 'John'},\n",
    "    {'id': 3, 'name': 'Alice'}\n",
    "]\n",
    "\n",
    "seen = set()\n",
    "result = []\n",
    "\n",
    "for item in my_list:\n",
    "    # Convert the dictionary into a tuple of its items\n",
    "    item_tuple = tuple(item.items())\n",
    "    \n",
    "    # Check if the tuple is in the set of seen keys\n",
    "    if item_tuple not in seen:\n",
    "        result.append(dict(item))\n",
    "        seen.add(item_tuple)\n",
    "\n",
    "print(result)"
   ]
  },
  {
   "cell_type": "code",
   "execution_count": 41,
   "id": "cd82fc1c",
   "metadata": {},
   "outputs": [
    {
     "name": "stdout",
     "output_type": "stream",
     "text": [
      "['ktm', 'hello', 'pkr', 'hi']\n",
      "hi\n"
     ]
    }
   ],
   "source": [
    "l1 = ['ktm','hello','pkr','hi']\n",
    "print(l1)\n",
    "l2 = l1.pop()\n",
    "print(l2)"
   ]
  },
  {
   "cell_type": "code",
   "execution_count": 49,
   "id": "9b6bea50",
   "metadata": {},
   "outputs": [
    {
     "name": "stdout",
     "output_type": "stream",
     "text": [
      "15\n"
     ]
    },
    {
     "data": {
      "text/plain": [
       "15"
      ]
     },
     "execution_count": 49,
     "metadata": {},
     "output_type": "execute_result"
    }
   ],
   "source": [
    "def add(a,b):\n",
    "    c=a+b\n",
    "    print(c)\n",
    "    return c\n",
    "add(5,10)"
   ]
  },
  {
   "cell_type": "code",
   "execution_count": 50,
   "id": "d41eb0ed",
   "metadata": {},
   "outputs": [
    {
     "name": "stdout",
     "output_type": "stream",
     "text": [
      "25\n",
      "sum is 25\n"
     ]
    }
   ],
   "source": [
    "res = add(10,15)\n",
    "print(f\"sum is {res}\")"
   ]
  },
  {
   "cell_type": "code",
   "execution_count": 52,
   "id": "ff9f6667",
   "metadata": {},
   "outputs": [
    {
     "name": "stdout",
     "output_type": "stream",
     "text": [
      "22 23\n"
     ]
    }
   ],
   "source": [
    "def fun1(a,b):\n",
    "    print(a,b)\n",
    "\n",
    "fun1(22,23)\n"
   ]
  },
  {
   "cell_type": "code",
   "execution_count": null,
   "id": "60e2e38b",
   "metadata": {},
   "outputs": [],
   "source": []
  }
 ],
 "metadata": {
  "kernelspec": {
   "display_name": "Python 3 (ipykernel)",
   "language": "python",
   "name": "python3"
  },
  "language_info": {
   "codemirror_mode": {
    "name": "ipython",
    "version": 3
   },
   "file_extension": ".py",
   "mimetype": "text/x-python",
   "name": "python",
   "nbconvert_exporter": "python",
   "pygments_lexer": "ipython3",
   "version": "3.11.3"
  }
 },
 "nbformat": 4,
 "nbformat_minor": 5
}
