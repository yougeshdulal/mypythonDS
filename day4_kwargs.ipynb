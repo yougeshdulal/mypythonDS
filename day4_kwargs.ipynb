{
 "cells": [
  {
   "cell_type": "code",
   "execution_count": 21,
   "id": "38c6d250",
   "metadata": {},
   "outputs": [
    {
     "name": "stdout",
     "output_type": "stream",
     "text": [
      "{'name': 'ram', 'age': 22, 'mark': 55}\n"
     ]
    }
   ],
   "source": [
    "import numpy as np\n",
    "student={\n",
    "    'name':'ram',\n",
    "    'age':22,\n",
    "    'mark':55\n",
    "}\n",
    "print(student)"
   ]
  },
  {
   "cell_type": "code",
   "execution_count": 2,
   "id": "edca971a",
   "metadata": {},
   "outputs": [
    {
     "name": "stdout",
     "output_type": "stream",
     "text": [
      "22 and 33\n"
     ]
    }
   ],
   "source": [
    "def fun1(a,b):\n",
    "    print(f\"{a} and {b}\")\n",
    "fun1(22,33)\n",
    "    "
   ]
  },
  {
   "cell_type": "code",
   "execution_count": 6,
   "id": "4ca71f36",
   "metadata": {},
   "outputs": [
    {
     "name": "stdout",
     "output_type": "stream",
     "text": [
      "32 and 53\n",
      "sum of 32 and 53 is 85 \n",
      "sum is (32, 53, 85)\n"
     ]
    }
   ],
   "source": [
    "def fun1(a,b):\n",
    "    a+= 10\n",
    "    b+= 20\n",
    "    print(f\"{a} and {b}\")\n",
    "    c = a + b\n",
    "    return a,b,c\n",
    "    \n",
    "res = fun1(22,33)\n",
    "n1,n2,n3 = res         #unpacking the tuple return in res fromm above function\n",
    "\n",
    "print(f\"sum of {n1} and {n2} is {n3} \")\n",
    "print(f\"sum is {res}\")\n"
   ]
  },
  {
   "cell_type": "code",
   "execution_count": 8,
   "id": "1ad8bfd2",
   "metadata": {},
   "outputs": [
    {
     "name": "stdout",
     "output_type": "stream",
     "text": [
      "(22, 33, 44)\n",
      "22\n",
      "33\n",
      "44\n"
     ]
    }
   ],
   "source": [
    "def func1(*args):\n",
    "    \n",
    "    print(args)\n",
    "    for i in args:\n",
    "        print(i)\n",
    "\n",
    "func1(22,33,44)\n"
   ]
  },
  {
   "cell_type": "markdown",
   "id": "64446c30",
   "metadata": {},
   "source": [
    "# kwargs"
   ]
  },
  {
   "cell_type": "code",
   "execution_count": 31,
   "id": "47acba64",
   "metadata": {
    "scrolled": true
   },
   "outputs": [
    {
     "name": "stdout",
     "output_type": "stream",
     "text": [
      "{'name': 'ram', 'age': 22, 'mark': 75}\n"
     ]
    }
   ],
   "source": [
    "def fun2(**kwargs):\n",
    "    \n",
    "    print(kwargs)\n",
    "        \n",
    "fun2(name='ram',age=22,mark=75)\n"
   ]
  },
  {
   "cell_type": "code",
   "execution_count": 29,
   "id": "25ed3b33",
   "metadata": {},
   "outputs": [
    {
     "name": "stdout",
     "output_type": "stream",
     "text": [
      "{'science_student': {'name': 'ram', 'age': 22}, 'arts_student': {'name': 'shyam', 'age': 25}, 'mgmt_student': {'name': 'hari', 'age': 30}}\n"
     ]
    }
   ],
   "source": [
    "student={\n",
    "    'science_student':{\n",
    "        'name':'ram',\n",
    "        'age':22\n",
    "    },\n",
    "    'arts_student':{\n",
    "        'name':'shyam',\n",
    "        'age':25\n",
    "    },\n",
    "    'mgmt_student':{\n",
    "        'name':'hari',\n",
    "        'age':30\n",
    "    }\n",
    "}\n",
    "print(student)"
   ]
  },
  {
   "cell_type": "code",
   "execution_count": 24,
   "id": "72631249",
   "metadata": {},
   "outputs": [
    {
     "name": "stdout",
     "output_type": "stream",
     "text": [
      "ram\n"
     ]
    }
   ],
   "source": [
    "print(student['science_student']['name'])"
   ]
  },
  {
   "cell_type": "code",
   "execution_count": 26,
   "id": "1ffa39b7",
   "metadata": {},
   "outputs": [],
   "source": [
    "student['mgmt_student']['address']=['pkr','ctwn']"
   ]
  },
  {
   "cell_type": "code",
   "execution_count": 27,
   "id": "ce46c350",
   "metadata": {},
   "outputs": [
    {
     "name": "stdout",
     "output_type": "stream",
     "text": [
      "{'science_student': {'name': 'ram', 'age': 22}, 'arts_student': {'name': 'shyam', 'age': 25}, 'mgmt_student': {'name': 'hari', 'age': 30, 'address': ['pkr', 'ctwn']}}\n"
     ]
    }
   ],
   "source": [
    "print(student)"
   ]
  },
  {
   "cell_type": "code",
   "execution_count": 32,
   "id": "656fadf5",
   "metadata": {},
   "outputs": [
    {
     "data": {
      "text/plain": [
       "['pkr', 'bktr', 'ktm', 'ram', 'shyam', 'hari']"
      ]
     },
     "execution_count": 32,
     "metadata": {},
     "output_type": "execute_result"
    }
   ],
   "source": [
    "list1 = ['pkr','bktr','ktm']\n",
    "list2 = ['ram','shyam','hari']\n",
    "list3 = list1 + list2\n",
    "list3"
   ]
  },
  {
   "cell_type": "code",
   "execution_count": 33,
   "id": "3249bdb9",
   "metadata": {},
   "outputs": [
    {
     "name": "stdout",
     "output_type": "stream",
     "text": [
      "{'pkr': 'ram', 'bktr': 'shyam', 'ktm': 'hari'}\n"
     ]
    }
   ],
   "source": [
    "a = zip(list1,list2)\n",
    "n_data = dict(a)\n",
    "print(n_data)"
   ]
  },
  {
   "cell_type": "code",
   "execution_count": 35,
   "id": "b47adbdb",
   "metadata": {},
   "outputs": [
    {
     "data": {
      "text/plain": [
       "{'pkr': 'ram', 'bktr': 'shyam', 'ktm': 'hari'}"
      ]
     },
     "execution_count": 35,
     "metadata": {},
     "output_type": "execute_result"
    }
   ],
   "source": [
    "list3 = dict(zip(list1,list2))\n",
    "list3"
   ]
  },
  {
   "cell_type": "code",
   "execution_count": 44,
   "id": "4bfa6481",
   "metadata": {},
   "outputs": [
    {
     "name": "stdout",
     "output_type": "stream",
     "text": [
      "enter the word you want to check:tes\n",
      "it is there\n"
     ]
    }
   ],
   "source": [
    "a = str(\"this is test\")\n",
    "\n",
    "b = str(input(\"enter the word you want to check:\"))\n",
    "\n",
    "if b in a:\n",
    "    print(\"it is there\")\n",
    "    \n",
    "else:\n",
    "    print(\"it is not there\")"
   ]
  },
  {
   "cell_type": "code",
   "execution_count": 6,
   "id": "e3af6744",
   "metadata": {
    "scrolled": true
   },
   "outputs": [
    {
     "name": "stdout",
     "output_type": "stream",
     "text": [
      "<class 'list'>\n",
      "5\n",
      "1\n",
      "2\n",
      "3\n",
      "4\n",
      "5\n",
      "sum is 15\n"
     ]
    }
   ],
   "source": [
    "l1 = [1,2,3,4,5]\n",
    "\n",
    "print(type(l1))\n",
    "\n",
    "print(len(l1))\n",
    "\n",
    "for i in l1:\n",
    "    print(i)\n",
    "\n",
    "print(f\"sum is {sum(l1)}\")\n",
    "\n"
   ]
  },
  {
   "cell_type": "code",
   "execution_count": 13,
   "id": "49e8df92",
   "metadata": {},
   "outputs": [
    {
     "name": "stdout",
     "output_type": "stream",
     "text": [
      "enter the number to check: 5\n",
      "it has number in list\n"
     ]
    }
   ],
   "source": [
    "a = int(input(\"enter the number to check: \"))\n",
    "\n",
    "if a in l1:\n",
    "    print(\"it has number in list\")\n",
    "else:\n",
    "    print(\"no contain\")"
   ]
  },
  {
   "cell_type": "code",
   "execution_count": 18,
   "id": "e7a2459a",
   "metadata": {},
   "outputs": [
    {
     "data": {
      "text/plain": [
       "[1, 2, 3, 4, 5, 2, 3, 2, 3, 2, 3, 2, 3, 2, 3]"
      ]
     },
     "execution_count": 18,
     "metadata": {},
     "output_type": "execute_result"
    }
   ],
   "source": [
    "l1.append(2)\n",
    "l1.append(3)\n",
    "l1\n"
   ]
  },
  {
   "cell_type": "code",
   "execution_count": 24,
   "id": "675a4dad",
   "metadata": {},
   "outputs": [
    {
     "data": {
      "text/plain": [
       "[1, 2, 55, 55, 3, 4, 5, 2, 3, 2, 3, 2, 3, 2, 3, 2, 3]"
      ]
     },
     "execution_count": 24,
     "metadata": {},
     "output_type": "execute_result"
    }
   ],
   "source": [
    "l1.insert(2,55)\n",
    "l1"
   ]
  },
  {
   "cell_type": "code",
   "execution_count": 25,
   "id": "81932e85",
   "metadata": {},
   "outputs": [
    {
     "name": "stdout",
     "output_type": "stream",
     "text": [
      "[1, 2, 55, 55, 3]\n"
     ]
    }
   ],
   "source": [
    "print(l1[0:5])"
   ]
  },
  {
   "cell_type": "code",
   "execution_count": 34,
   "id": "67e0422c",
   "metadata": {},
   "outputs": [
    {
     "name": "stdout",
     "output_type": "stream",
     "text": [
      "enter the number you want to add: 4\n",
      "name you want to add: hi\n",
      "name you want to add: this\n",
      "name you want to add: is \n",
      "name you want to add: yougesh\n",
      "['hi', 'this', 'is ', 'yougesh']\n"
     ]
    }
   ],
   "source": [
    "l2 = []\n",
    "\n",
    "n = int(input(\"enter the number you want to add: \"))\n",
    "\n",
    "for i in range(n):\n",
    "    num = input(\"name you want to add: \")\n",
    "    l2.append(num)\n",
    "\n",
    "print(l2)\n",
    "    \n"
   ]
  },
  {
   "cell_type": "code",
   "execution_count": 41,
   "id": "9ca337bf",
   "metadata": {},
   "outputs": [
    {
     "name": "stdout",
     "output_type": "stream",
     "text": [
      "{'name': 'ram', 'age': 22, 'address': ['ktm', 'pkr']}\n",
      "<class 'dict'>\n",
      "{'name': 'ram', 'age': 22, 'address': ['ktm', 'pkr', 'htd']}\n"
     ]
    }
   ],
   "source": [
    "detail={\n",
    "    'name':'ram',\n",
    "    'age': 22,\n",
    "    'address':['ktm','pkr']\n",
    "}\n",
    "print(detail)\n",
    "print(type(detail))\n",
    "\n",
    "detail['address']=['ktm','pkr','htd']\n",
    "print(detail)\n",
    "\n"
   ]
  },
  {
   "cell_type": "code",
   "execution_count": 42,
   "id": "a0ba161f",
   "metadata": {},
   "outputs": [
    {
     "name": "stdout",
     "output_type": "stream",
     "text": [
      "dict_keys(['name', 'age', 'address'])\n"
     ]
    }
   ],
   "source": [
    "print(detail.keys())"
   ]
  },
  {
   "cell_type": "code",
   "execution_count": 43,
   "id": "13872265",
   "metadata": {},
   "outputs": [
    {
     "name": "stdout",
     "output_type": "stream",
     "text": [
      "dict_values(['ram', 22, ['ktm', 'pkr', 'htd']])\n"
     ]
    }
   ],
   "source": [
    "print(detail.values())"
   ]
  },
  {
   "cell_type": "code",
   "execution_count": 45,
   "id": "b2cd1387",
   "metadata": {},
   "outputs": [
    {
     "name": "stdout",
     "output_type": "stream",
     "text": [
      "dict_items([('name', 'ram'), ('age', 22), ('address', ['ktm', 'pkr', 'htd'])])\n"
     ]
    }
   ],
   "source": [
    "print(detail.items())"
   ]
  },
  {
   "cell_type": "code",
   "execution_count": 48,
   "id": "9359fbf8",
   "metadata": {},
   "outputs": [
    {
     "name": "stdout",
     "output_type": "stream",
     "text": [
      "enter the password: 123\n",
      "weak password\n"
     ]
    }
   ],
   "source": [
    "\n",
    "\n",
    "try:\n",
    "    pwd = input(\"enter the password: \")\n",
    "    l = len(pwd)\n",
    "    if l >= 8:\n",
    "        print(\"strong\")\n",
    "    else:\n",
    "        raise Exception(\"weak password\")\n",
    "        \n",
    "except Exception as ex:\n",
    "    print(ex)"
   ]
  },
  {
   "cell_type": "code",
   "execution_count": null,
   "id": "35607486",
   "metadata": {},
   "outputs": [],
   "source": []
  }
 ],
 "metadata": {
  "kernelspec": {
   "display_name": "Python 3 (ipykernel)",
   "language": "python",
   "name": "python3"
  },
  "language_info": {
   "codemirror_mode": {
    "name": "ipython",
    "version": 3
   },
   "file_extension": ".py",
   "mimetype": "text/x-python",
   "name": "python",
   "nbconvert_exporter": "python",
   "pygments_lexer": "ipython3",
   "version": "3.11.3"
  }
 },
 "nbformat": 4,
 "nbformat_minor": 5
}
